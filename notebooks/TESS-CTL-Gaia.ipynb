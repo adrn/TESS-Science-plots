{
 "cells": [
  {
   "cell_type": "code",
   "execution_count": null,
   "metadata": {},
   "outputs": [],
   "source": [
    "import glob\n",
    "import pathlib\n",
    "\n",
    "import astropy.coordinates as coord\n",
    "import astropy.table as at\n",
    "import astropy.units as u\n",
    "import matplotlib as mpl\n",
    "import matplotlib.pyplot as plt\n",
    "%matplotlib inline\n",
    "import numpy as np\n",
    "\n",
    "from pyia import GaiaData"
   ]
  },
  {
   "cell_type": "code",
   "execution_count": null,
   "metadata": {},
   "outputs": [],
   "source": [
    "main_filename = pathlib.Path('../../data/TESS-Gaia-main.fits')\n",
    "\n",
    "if not main_filename.exists():\n",
    "    all_tbls = []\n",
    "    for filename in glob.glob('../../TESS-Gaia/gaiatess*'):\n",
    "        all_tbls.append(at.Table.read(filename))\n",
    "\n",
    "    main_tbl = at.vstack(all_tbls)\n",
    "    main_tbl.write(main_filename)\n",
    "    \n",
    "else:\n",
    "    main_tbl = at.Table.read(main_filename)"
   ]
  },
  {
   "cell_type": "code",
   "execution_count": null,
   "metadata": {},
   "outputs": [],
   "source": [
    "# dr16 = at.Table.read('/Users/apricewhelan/data/APOGEE_DR16/allStarLite-r12-l33.fits')"
   ]
  },
  {
   "cell_type": "code",
   "execution_count": null,
   "metadata": {},
   "outputs": [],
   "source": [
    "g = GaiaData(main_tbl)\n",
    "g = g[(g.get_ruwe() < 1.4) &\n",
    "      (g.parallax > 1.*u.mas) &\n",
    "      (g.phot_bp_mean_mag != 0*u.mag) &\n",
    "      (g.phot_rp_mean_mag != 0*u.mag)]\n",
    "g = g[np.unique(g.source_id, return_index=True)[1]]\n",
    "g = g[(g.get_ebv() < 0.1)]\n",
    "# g = g[np.isin(g.source_id, dr16['GAIA_SOURCE_ID'])]"
   ]
  },
  {
   "cell_type": "code",
   "execution_count": null,
   "metadata": {},
   "outputs": [],
   "source": [
    "# sub_dr16 = dr16[np.isin(dr16['GAIA_SOURCE_ID'], g.source_id)]\n",
    "# plt.hist(sub_dr16['M_H'], bins=np.linspace(-2.5, 0.7, 64));"
   ]
  },
  {
   "cell_type": "code",
   "execution_count": null,
   "metadata": {},
   "outputs": [],
   "source": [
    "# mg = g.phot_g_mean_mag - g.distmod\n",
    "# bprp = g.phot_bp_mean_mag - g.phot_rp_mean_mag\n",
    "mg = g.get_G0() - g.distmod\n",
    "bprp = g.get_BP0() - g.get_RP0()"
   ]
  },
  {
   "cell_type": "code",
   "execution_count": null,
   "metadata": {},
   "outputs": [],
   "source": [
    "fig, ax = plt.subplots(figsize=(6, 6))\n",
    "\n",
    "H, xe, ye = np.histogram2d(bprp.value, mg.value,\n",
    "                           bins=(np.arange(-1, 5, 0.02),\n",
    "                                 np.arange(-6, 15, 0.04)))\n",
    "# ax.scatter(bprp, mg, s=1, alpha=0.5)\n",
    "ax.pcolormesh(xe, ye, H.T, \n",
    "              norm=mpl.colors.LogNorm(),\n",
    "              cmap='cividis')\n",
    "ax.set_xlim(-1, 5)\n",
    "ax.set_ylim()\n",
    "ax.set_ylim(15, -6)\n",
    "\n",
    "ax.set_xlabel(r'$G_{\\rm BP} - G_{\\rm RP}$')\n",
    "ax.set_ylabel(r'$M_G$')\n",
    "\n",
    "# from Mamajek: http://www.pas.rochester.edu/~emamajek/EEM_dwarf_UBVIJHK_colors_Teff.txt\n",
    "sptypes = {\n",
    "    'B': ['tab:purple', (-1, -0.087)],\n",
    "    'A': ['tab:blue', (-0.037, 0.327)],\n",
    "    'F': ['tab:green', (0.377, 0.767)],\n",
    "    'G': ['y', (0.782, 0.950)],\n",
    "    'K': ['tab:orange', (0.98, 1.78)],\n",
    "    'M': ['tab:red', (1.84, 5)]\n",
    "}\n",
    "for sptype, (color, lims) in sptypes.items():\n",
    "    ax.axvspan(lims[0], lims[1], lw=0, color=color, alpha=0.25, zorder=-100)\n",
    "    \n",
    "    if sptype == 'B':\n",
    "        ax.text(lims[1]-0.02, -5+0.2, \n",
    "                sptype, fontsize=16, color=color, alpha=1, \n",
    "                zorder=10, ha='right', va='bottom')\n",
    "    else:\n",
    "        ax.text(lims[0]+0.01, -5+0.2, \n",
    "                sptype, fontsize=16, color=color, alpha=1, \n",
    "                zorder=10, ha='left', va='bottom')\n",
    "\n",
    "fig.set_facecolor('w')"
   ]
  },
  {
   "cell_type": "code",
   "execution_count": null,
   "metadata": {},
   "outputs": [],
   "source": []
  }
 ],
 "metadata": {
  "kernelspec": {
   "display_name": "Python [conda env:root] *",
   "language": "python",
   "name": "conda-root-py"
  },
  "language_info": {
   "codemirror_mode": {
    "name": "ipython",
    "version": 3
   },
   "file_extension": ".py",
   "mimetype": "text/x-python",
   "name": "python",
   "nbconvert_exporter": "python",
   "pygments_lexer": "ipython3",
   "version": "3.8.3"
  },
  "toc": {
   "base_numbering": 1,
   "nav_menu": {},
   "number_sections": true,
   "sideBar": true,
   "skip_h1_title": false,
   "title_cell": "Table of Contents",
   "title_sidebar": "Contents",
   "toc_cell": false,
   "toc_position": {},
   "toc_section_display": true,
   "toc_window_display": false
  }
 },
 "nbformat": 4,
 "nbformat_minor": 4
}
